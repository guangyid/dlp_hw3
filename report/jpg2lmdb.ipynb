{
 "cells": [
  {
   "cell_type": "code",
   "execution_count": 2,
   "metadata": {},
   "outputs": [],
   "source": [
    "import lmdb\n",
    "import cv2\n",
    "import numpy as np\n",
    "import sys\n",
    "import shutil\n",
    "import xml.etree.ElementTree as ET\n",
    "from tqdm import tqdm\n",
    "import os.path as osp"
   ]
  },
  {
   "cell_type": "code",
   "execution_count": null,
   "metadata": {},
   "outputs": [],
   "source": [
    "print(lmdb.__version__)\n",
    "lmdb_path = \"test\"\n",
    "dir_path = \"WIDER_test\""
   ]
  },
  {
   "cell_type": "code",
   "execution_count": null,
   "metadata": {},
   "outputs": [],
   "source": [
    "# 递归获取目录（文件夹）下的所有文件路径\n",
    "import os\n",
    "def get_filepath(dir_path, list_name):\n",
    "    for file in os.listdir(dir_path):  # 获取文件（夹）名\n",
    "        file_path = os.path.join(dir_path, file)  # 将文件（夹）名补全为路径\n",
    "        if os.path.isdir(file_path):  # 如果是文件夹，则递归\n",
    "            get_filepath(file_path, list_name)\n",
    "        else:\n",
    "            list_name.append(file_path)  # 保存路径\n",
    "    return list_name\n",
    "\n",
    "res = []\n",
    "res = get_filepath(dir_path,res)\n",
    "# print(res)"
   ]
  },
  {
   "cell_type": "code",
   "execution_count": null,
   "metadata": {},
   "outputs": [],
   "source": [
    "env = lmdb.open(lmdb_path, map_size=1073741824*4)  # size=1GB\n",
    "cache = {}\n",
    "for path in tqdm(res):\n",
    "    with open(path,'rb') as f:\n",
    "        bin = f.read()\n",
    "    cache['{}'.format(path[:-4])] = bin\n",
    "    \n",
    "with env.begin(write=True) as txn:\n",
    "    for k, v in tqdm(cache.items()):\n",
    "        if isinstance(v, bytes):\n",
    "            # 图片类型为bytes\n",
    "            txn.put(k.encode(), v)\n",
    "        else:\n",
    "            # 标签类型为str, 转为bytes\n",
    "            txn.put(k.encode(), v.encode())  # 编码\n",
    "\n",
    "env.close()"
   ]
  },
  {
   "cell_type": "code",
   "execution_count": null,
   "metadata": {},
   "outputs": [],
   "source": [
    "image_path = 'WIDER_train\\\\0--Parade\\\\0_Parade_marchingband_1_5.jpg'\n",
    "label = '0_Parade_marchingband_1_5'\n",
    "\n",
    "env = lmdb.open('lmdb_dir')\n",
    "cache = {}  # 存储键值对\n",
    "\n",
    "with open(image_path, 'rb') as f:\n",
    "    # 读取图像文件的二进制格式数据\n",
    "    image_bin = f.read()\n",
    "\n",
    "# 用两个键值对表示一个数据样本\n",
    "cache['image\\_000'] = image_bin\n",
    "cache['label\\_000'] = label\n",
    "\n",
    "with env.begin(write=True) as txn:\n",
    "    for k, v in cache.items():\n",
    "        if isinstance(v, bytes):\n",
    "            # 图片类型为bytes\n",
    "            txn.put(k.encode(), v)\n",
    "        else:\n",
    "            # 标签类型为str, 转为bytes\n",
    "            txn.put(k.encode(), v.encode())  # 编码\n",
    "\n",
    "env.close()"
   ]
  },
  {
   "cell_type": "code",
   "execution_count": null,
   "metadata": {},
   "outputs": [],
   "source": [
    "env = lmdb.open('data\\\\WIDERFace\\\\WIDER_val\\\\Annotations')\n",
    "\n",
    "with env.begin(write=False) as txn:\n",
    "    # 获取图像数据\n",
    "    image_bin = txn.get('WIDER_val\\\\Annotations\\\\0_Parade_marchingband_1_1004'.encode())\n",
    "    # label = txn.get('WIDER_val\\\\0--Parade\\\\0_Parade_Parade_0_102'.encode()).decode()  # 解码\n",
    "    print(image_bin)\n",
    "    # 将二进制文件转为十进制文件（一维数组）\n",
    "    # image_buf = np.frombuffer(image_bin, dtype=np.uint8)\n",
    "    # # 将数据转换(解码)成图像格式\n",
    "    # # cv2.IMREAD_GRAYSCALE为灰度图，cv2.IMREAD_COLOR为彩色图\n",
    "    # img = cv2.imdecode(image_buf, cv2.IMREAD_COLOR)\n",
    "    # cv2.imshow('image', img)\n",
    "    # cv2.waitKey(0)"
   ]
  },
  {
   "cell_type": "code",
   "execution_count": null,
   "metadata": {},
   "outputs": [],
   "source": [
    "import lmdb\n",
    "env = lmdb.open('data\\WIDERFace\\WIDER_train\\\\train')\n",
    "txn=env.begin(write=True)\n",
    "for key,value in txn.cursor():\n",
    "    print(key)\n",
    "txn.commit()\n",
    "env.close()"
   ]
  },
  {
   "cell_type": "code",
   "execution_count": 3,
   "metadata": {},
   "outputs": [
    {
     "name": "stdout",
     "output_type": "stream",
     "text": [
      "[{'id': '0_Parade_marchingband_1_100', 'filename': '0--Parade\\\\0_Parade_marchingband_1_100', 'width': 1024, 'height': 682}]\n"
     ]
    }
   ],
   "source": [
    "env = lmdb.open('data\\WIDERFace\\WIDER_train\\Annotations')\n",
    "data_infos = []\n",
    "img_prefix='data/WIDERFace/WIDER_train/'\n",
    "\n",
    "with env.begin(write=False) as txn:\n",
    "\n",
    "    img_id = '0_Parade_marchingband_1_100'\n",
    "    lmdb_xml_label = osp.join(img_prefix, 'Annotations',\n",
    "                    f'{img_id}').replace('/','\\\\').replace('data\\\\WIDERFace\\\\','')\n",
    "    # print(lmdb_xml_label)\n",
    "    # print(list(lmdb_xml_label))\n",
    "    bin = txn.get(lmdb_xml_label.encode())\n",
    "    # print(bin)\n",
    "    root = ET.fromstring(bin)\n",
    "    size = root.find('size')\n",
    "    width = int(size.find('width').text)\n",
    "    height = int(size.find('height').text)\n",
    "    folder = root.find('folder').text\n",
    "    data_infos.append(\n",
    "        dict(\n",
    "            id=img_id,\n",
    "            filename=osp.join(folder, img_id),#再从xml文件中得到图片的路径\n",
    "            width=width,\n",
    "            height=height))\n",
    "    print(data_infos)"
   ]
  },
  {
   "cell_type": "code",
   "execution_count": 18,
   "metadata": {},
   "outputs": [],
   "source": [
    "with open('tools\\dist_trainval.sh') as f:\n",
    "    line = f.readline()\n",
    "    str = []\n",
    "    while line:\n",
    "        str.append(line)\n",
    "        print(str)\n",
    "\n"
   ]
  }
 ],
 "metadata": {
  "kernelspec": {
   "display_name": "pytorch1.12",
   "language": "python",
   "name": "python3"
  },
  "language_info": {
   "codemirror_mode": {
    "name": "ipython",
    "version": 3
   },
   "file_extension": ".py",
   "mimetype": "text/x-python",
   "name": "python",
   "nbconvert_exporter": "python",
   "pygments_lexer": "ipython3",
   "version": "3.8.0 | packaged by conda-forge | (default, Nov 22 2019, 19:04:36) [MSC v.1916 64 bit (AMD64)]"
  },
  "orig_nbformat": 4,
  "vscode": {
   "interpreter": {
    "hash": "5710d5f6f51dee1c0c71236096d42cb40686a207effb07ab4fb563a5d09485b5"
   }
  }
 },
 "nbformat": 4,
 "nbformat_minor": 2
}
